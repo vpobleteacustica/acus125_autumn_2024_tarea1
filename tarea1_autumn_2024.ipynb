{
 "cells": [
  {
   "cell_type": "markdown",
   "metadata": {},
   "source": [
    "<h1 style=\"text-align:center\">Tarea grupal 1: Comparar ecuaciones de movimiento nolineal y lineal de un péndulo simple </h1>\n",
    "<h3 style=\"text-align:center\">ACUS125: Aislamiento y Análisis de Vibraciones</h3>\n",
    "<p style=\"text-align:center\">Dr. Víctor Poblete <br>\n",
    "<a href=\"mailto:vpoblete@uach.cl\">vpoblete@uach.cl</a><br>\n",
    "<p style=\"text-align:center\">Rafael Hayde <br>\n",
    "<a href=\"mailto:vpoblete@uach.cl\">rafael@penailillo.cl</a><br><br>\n",
    "<a href=\"https://github.com/vpobleteacustica/ACUS125-Autumn-2024\">https://github.com/vpobleteacustica/ACUS125-Autumn-2024</a><br> \n",
    "<a href=\"http://www.acusticauach.cl\">www.acusticauach.cl</a><br>\n",
    "<a href=\"http://www.aumilab.cl\">www.aumilab.cl</a><br>\n"
   ]
  },
  {
   "cell_type": "markdown",
   "metadata": {},
   "source": [
    "### 1. Graficar la solución lineal de la ecuación de movimiento de un péndulo simple\n",
    "\n",
    "Recordar que las ecuaciones para cada caso son las siguientes:\n",
    "\n",
    "**Ecuación no lineal**\n",
    "$$\n",
    "\\begin{align*}\n",
    "\\ddot{\\theta}\\,+\\,\\frac{g}{L}\\,\\text{sen}(\\theta)\\,=\\,0\n",
    "\\end{align*}\n",
    "$$\n",
    "\n",
    "**Ecuación lineal**\n",
    "\n",
    "$$\n",
    "\\begin{align*}\n",
    "\\ddot{\\theta}\\,+\\,\\frac{g}{L}\\,\\theta\\,=\\,0\n",
    "\\end{align*}\n",
    "$$\n",
    "\n",
    "Con las siguientes condiciones iniciales $\\theta_{0}$ y $\\dot{\\theta_{0}}$:\n",
    "\n",
    "+ > > L = 1 m; g = 9.81 (m/$s^2$); $\\theta_{0} = \\pi /3 = (60°)$; $\\dot{\\theta_{0}}=0$ (rad/s)\n",
    "\n",
    "Y recordando la **solución lineal**:\n",
    "\n",
    "$$\n",
    "\\begin{align*}\n",
    "\\theta (t) = \\theta_{0}\\cdot cos(\\omega_{0}t) + \\frac{\\dot{\\theta_{0}}}{\\omega_{0}}\\cdot sen(\\omega_{0}t)\n",
    "\\end{align*}\n",
    "$$"
   ]
  },
  {
   "cell_type": "markdown",
   "metadata": {},
   "source": [
    "### 2. Graficar la solución no lineal de la ecuación de movimiento de un péndulo simple y comparar gráficamente ambas soluciones y comentar los resultados obtenidos para cada solución"
   ]
  },
  {
   "cell_type": "markdown",
   "metadata": {},
   "source": [
    "### 3. Cuantificar el error entre estas dos soluciones utilizando RMSE (raíz del error cuadrático medio)"
   ]
  },
  {
   "cell_type": "markdown",
   "metadata": {},
   "source": [
    "### 4. Analizar un arreglo de valores de diferentes desplazamientos angulares $\\theta$ \n",
    "\n",
    "> + Construir un arreglo (vector) entre 0 y 90 grados para el desplazamiento angular tomando al menos 30 valores entre estos (ver `numpy.linspace()`)."
   ]
  },
  {
   "cell_type": "markdown",
   "metadata": {},
   "source": [
    "### 5. Para cada valor de $\\theta$, cuantificar el error y realizar un gráfico en que se muestre el error vs. $\\theta$ grados."
   ]
  },
  {
   "cell_type": "markdown",
   "metadata": {},
   "source": [
    "### 6. Utilizando el valor de $\\theta$ con el menor error, construir un nuevo arreglo de valores de $L$ entre $0.1$ a $100$ metros y repetir el procedimiento (para cada valor de $L$ cuantificar el error RMSE)"
   ]
  },
  {
   "cell_type": "markdown",
   "metadata": {},
   "source": [
    "### 7. Análizar y discutir en general los resultados"
   ]
  },
  {
   "cell_type": "markdown",
   "metadata": {},
   "source": [
    "--------------------------------------------------------------------------------------------------------"
   ]
  },
  {
   "cell_type": "markdown",
   "metadata": {},
   "source": [
    "##  Evaluación\n",
    "\n",
    "Se calculará una nota para la presentación y otra para el desarrollo del cuadernillo, en base a la siguiente fórmula con exigencia al 60%:\n",
    "\n",
    "\n",
    "\\begin{equation*}  \n",
    "n = \n",
    "     \\begin{cases}\n",
    "       (n_{apr}-n_{min}) \\cdot \\dfrac{p}{e \\cdot p_{max}} + n_{min} \\quad \\text{si} \\quad p < e \\cdot p_{max}\\\\ \\\\\n",
    "       (n_{max}-n_{apr}) \\cdot \\dfrac{p - e \\cdot p_{max}}{p_{max} \\cdot (1-e)} + n_{apr} \\quad \\text{si} \\quad p \\geq e \\cdot p_{max} \\\\\n",
    "     \\end{cases}\n",
    "\\end{equation*}\n",
    "\n",
    "\n",
    "donde: <br><br>\n",
    "$$n_{apr} = 4: \\quad \\text{nota de aprobación}$$  \n",
    "$$n_{max} = 7: \\quad \\text{nota máxima} $$  \n",
    "$$n_{min} = 1: \\quad \\text{nota mínima} $$ \n",
    "$$e = 0.6: \\quad \\text{exigencia} $$ \n",
    "$$p_{max}: \\quad \\text{puntaje máximo} $$ \n",
    "$$p: \\quad \\text{puntaje obtenido} $$ \n",
    "\n",
    "Con esto, se obtiene ambas notas en base a los puntos evaluados:\n",
    "\n",
    "\\begin{equation*}\n",
    "N_{presentación} = n(\\left[Calidad(2) + Dominio(3) + Coordinación (1) + Respuesta(2)\\right])\n",
    "\\end{equation*}\n",
    "\n",
    "\\begin{equation*}\n",
    "N_{notebook} = n(\\left[Pregunta 1(2) + Pregunta 2(2)  + Pregunta 3(3)  + Pregunta 4(1) + Pregunta 5(3) +P regunta 6(1) + Pregunta 7(3) \\right])\n",
    "\\end{equation*}\n",
    "\n",
    "Se calcula la **nota final** como:\n",
    "\n",
    "\\begin{equation*}\n",
    "N_{final} = \\left(0.6 \\cdot N_{notebook}+0.4 \\cdot N_{presentación}\\right)\n",
    "\\end{equation*}\n",
    "\n",
    "\n",
    "\n",
    "\n",
    "\n",
    "### Presentación\n",
    "\n",
    "- Calidad de la presentación: \n",
    "<br><br>\n",
    "- Dominio del tema: \n",
    "<br><br>\n",
    "- Coordinación grupal\n",
    "<br><br>\n",
    "- Respuestas\n",
    "\n",
    "### Desarrollo enunciado\n",
    "\n",
    "- Pregunta 1\n",
    "<br><br>\n",
    "- Pregunta 2\n",
    "<br><br>\n",
    "- Pregunta 3\n",
    "<br><br>\n",
    "- Pregunta 4\n",
    "<br><br>\n",
    "- Pregunta 5\n",
    "<br><br>\n",
    "- Pregunta 6\n",
    "<br><br>\n",
    "- Pregunta 7"
   ]
  },
  {
   "cell_type": "code",
   "execution_count": 1,
   "metadata": {},
   "outputs": [],
   "source": [
    "def nota_puntaje(p,pmax,e):\n",
    "    if p >= e*pmax:\n",
    "        n = (7-4)*((p-e*pmax)/(pmax*(1-e)))+4\n",
    "    if p < e*pmax:\n",
    "        n = (4-1)*(p/(e*pmax))+1\n",
    "    return round(n,2)\n",
    "\n",
    "def nota_final(n_notebook,n_presentacion):\n",
    "    nf = 0.6*n_notebook+0.4*n_presentacion\n",
    "    return round(nf,2)"
   ]
  },
  {
   "cell_type": "code",
   "execution_count": 2,
   "metadata": {},
   "outputs": [],
   "source": [
    "#p_notebook \n",
    "#p_presentacion \n",
    "#pmax_notebook \n",
    "#pmax_presentacion\n",
    "#exigencia\n",
    "\n",
    "#nota_notebook = nota_puntaje(p_notebook,pmax_notebook,exigencia)\n",
    "#nota_presentacion = nota_puntaje(p_presentacion,pmax_presentacion,exigencia)##\n",
    "\n",
    "#nf = nota_final(nota_notebook,nota_presentacion)\n",
    "#print(\"La nota final es: \",nf)"
   ]
  },
  {
   "cell_type": "markdown",
   "metadata": {},
   "source": [
    "## Observaciones y comentarios"
   ]
  },
  {
   "cell_type": "code",
   "execution_count": null,
   "metadata": {},
   "outputs": [],
   "source": []
  }
 ],
 "metadata": {
  "kernelspec": {
   "display_name": "acus125_book",
   "language": "python",
   "name": "acus125_book"
  },
  "language_info": {
   "codemirror_mode": {
    "name": "ipython",
    "version": 3
   },
   "file_extension": ".py",
   "mimetype": "text/x-python",
   "name": "python",
   "nbconvert_exporter": "python",
   "pygments_lexer": "ipython3",
   "version": "3.9.4"
  }
 },
 "nbformat": 4,
 "nbformat_minor": 2
}
